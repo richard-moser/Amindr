{
 "cells": [
  {
   "cell_type": "code",
   "execution_count": 1,
   "metadata": {},
   "outputs": [],
   "source": [
    "from dotenv import load_dotenv\n",
    "import os, pickle, asyncio\n",
    "load_dotenv(\".env\")\n",
    "OPENAI_KEY = os.environ.get(\"OPENAI_KEY\")\n",
    "from openai import OpenAI\n",
    "client = OpenAI(api_key=OPENAI_KEY)"
   ]
  },
  {
   "cell_type": "code",
   "execution_count": 73,
   "metadata": {},
   "outputs": [],
   "source": [
    "file = open(\"instructions.txt\", \"r\")\n",
    "instructions = file.read()\n",
    "file = open(\"test.txt\", \"r\")\n",
    "abstracts = file.read()"
   ]
  },
  {
   "cell_type": "code",
   "execution_count": 4,
   "metadata": {},
   "outputs": [
    {
     "name": "stdout",
     "output_type": "stream",
     "text": [
      "10\n"
     ]
    },
    {
     "data": {
      "text/html": [
       "<div>\n",
       "<style scoped>\n",
       "    .dataframe tbody tr th:only-of-type {\n",
       "        vertical-align: middle;\n",
       "    }\n",
       "\n",
       "    .dataframe tbody tr th {\n",
       "        vertical-align: top;\n",
       "    }\n",
       "\n",
       "    .dataframe thead th {\n",
       "        text-align: right;\n",
       "    }\n",
       "</style>\n",
       "<table border=\"1\" class=\"dataframe\">\n",
       "  <thead>\n",
       "    <tr style=\"text-align: right;\">\n",
       "      <th></th>\n",
       "      <th>Title</th>\n",
       "      <th>Abstract</th>\n",
       "      <th>Identifier</th>\n",
       "    </tr>\n",
       "  </thead>\n",
       "  <tbody>\n",
       "    <tr>\n",
       "      <th>0</th>\n",
       "      <td>Alzheimer's disease.</td>\n",
       "      <td>1. Nature. 2011 Jul 13;475(7355):S1. doi: 10.1...</td>\n",
       "      <td>DOI: 10.1038/475S1a\\nPMID: 21760574 [Indexed f...</td>\n",
       "    </tr>\n",
       "    <tr>\n",
       "      <th>1</th>\n",
       "      <td>Alzheimer's disease.</td>\n",
       "      <td>In this Seminar, we highlight the main develop...</td>\n",
       "      <td>DOI: 10.1016/S0140-6736(20)32205-4\\nPMCID: PMC...</td>\n",
       "    </tr>\n",
       "    <tr>\n",
       "      <th>2</th>\n",
       "      <td>Alzheimer's disease.</td>\n",
       "      <td>Alzheimer's disease (AD) dementia refers to a ...</td>\n",
       "      <td>DOI: 10.1016/B978-0-12-804766-8.00013-3\\nPMID:...</td>\n",
       "    </tr>\n",
       "    <tr>\n",
       "      <th>3</th>\n",
       "      <td>Current understanding of Alzheimer's disease d...</td>\n",
       "      <td>Alzheimer's disease is the most common cause o...</td>\n",
       "      <td>DOI: 10.12688/f1000research.14506.1\\nPMCID: PM...</td>\n",
       "    </tr>\n",
       "    <tr>\n",
       "      <th>4</th>\n",
       "      <td>Alzheimer's Disease-Biochemical and Psychologi...</td>\n",
       "      <td>There is a paucity of empirical research on th...</td>\n",
       "      <td>DOI: 10.3390/ijms24021059\\nPMCID: PMC9866942\\n...</td>\n",
       "    </tr>\n",
       "  </tbody>\n",
       "</table>\n",
       "</div>"
      ],
      "text/plain": [
       "                                               Title  \\\n",
       "0                               Alzheimer's disease.   \n",
       "1                               Alzheimer's disease.   \n",
       "2                               Alzheimer's disease.   \n",
       "3  Current understanding of Alzheimer's disease d...   \n",
       "4  Alzheimer's Disease-Biochemical and Psychologi...   \n",
       "\n",
       "                                            Abstract  \\\n",
       "0  1. Nature. 2011 Jul 13;475(7355):S1. doi: 10.1...   \n",
       "1  In this Seminar, we highlight the main develop...   \n",
       "2  Alzheimer's disease (AD) dementia refers to a ...   \n",
       "3  Alzheimer's disease is the most common cause o...   \n",
       "4  There is a paucity of empirical research on th...   \n",
       "\n",
       "                                          Identifier  \n",
       "0  DOI: 10.1038/475S1a\\nPMID: 21760574 [Indexed f...  \n",
       "1  DOI: 10.1016/S0140-6736(20)32205-4\\nPMCID: PMC...  \n",
       "2  DOI: 10.1016/B978-0-12-804766-8.00013-3\\nPMID:...  \n",
       "3  DOI: 10.12688/f1000research.14506.1\\nPMCID: PM...  \n",
       "4  DOI: 10.3390/ijms24021059\\nPMCID: PMC9866942\\n...  "
      ]
     },
     "execution_count": 4,
     "metadata": {},
     "output_type": "execute_result"
    }
   ],
   "source": [
    "#Preprocessing\n",
    "import pandas as pd\n",
    "\n",
    "data = []\n",
    "\n",
    "file = open(\"abstract-alzheimers-set.txt\", \"r\")\n",
    "raw = file.read()\n",
    "\n",
    "#split into publications\n",
    "publications = raw.split(\"\\n\\n\\n\")\n",
    "print(len(publications))\n",
    "\n",
    "for pub in publications:\n",
    "    #split into elements\n",
    "    element_list = pub.split(\"\\n\\n\")\n",
    "\n",
    "    #get title \n",
    "    title = element_list[1]\n",
    "\n",
    "    #get abstract\n",
    "    element_list = [item for item in element_list if \"Author information:\" not in item]\n",
    "    abstract = max(element_list, key=len)\n",
    "\n",
    "    #get doi\n",
    "    identifier = next((item for item in element_list if \"DOI:\" in item), None)\n",
    "\n",
    "    #save data in list\n",
    "    data.append([title, abstract, identifier])\n",
    "    \n",
    "# Convert list to DataFrame\n",
    "publications_df = pd.DataFrame(data, columns=['Title', 'Abstract', 'Identifier'])\n",
    "publications_df.head()\n",
    "\n",
    "\n",
    "#publications_df[\"Abstract\"][0]"
   ]
  },
  {
   "cell_type": "code",
   "execution_count": 44,
   "metadata": {},
   "outputs": [],
   "source": [
    "def get_category (instructions, abstracts):\n",
    "\n",
    "   response = client.chat.completions.create(\n",
    "   model=\"gpt-4-1106-preview\" #\"gpt-3.5-turbo-1106\",\n",
    "   #temperature=0.5,\n",
    "  # response_format={ \"type\": \"json_object\" },\n",
    "   messages=[\n",
    "        {\"role\": \"system\", \"content\": instructions},\n",
    "        {\"role\": \"user\", \"content\": abstracts}\n",
    "    ]\n",
    "   )\n",
    "   return response.choices[0].message.content\n",
    "\n"
   ]
  },
  {
   "cell_type": "code",
   "execution_count": 74,
   "metadata": {},
   "outputs": [],
   "source": [
    "with open(\"output.txt\", \"w\") as file:\n",
    "\tcontent = get_category (instructions, abstracts)\n",
    "\tfile.write(content)\n",
    "\tfile.close()"
   ]
  }
 ],
 "metadata": {
  "kernelspec": {
   "display_name": "Python 3",
   "language": "python",
   "name": "python3"
  },
  "language_info": {
   "codemirror_mode": {
    "name": "ipython",
    "version": 3
   },
   "file_extension": ".py",
   "mimetype": "text/x-python",
   "name": "python",
   "nbconvert_exporter": "python",
   "pygments_lexer": "ipython3",
   "version": "3.11.2"
  }
 },
 "nbformat": 4,
 "nbformat_minor": 2
}
