{
 "cells": [
  {
   "cell_type": "code",
   "execution_count": 1,
   "metadata": {},
   "outputs": [],
   "source": [
    "from dotenv import load_dotenv\n",
    "import os, pickle, asyncio\n",
    "load_dotenv(\".env\")\n",
    "OPENAI_KEY = os.environ.get(\"OPENAI_KEY\")\n",
    "from openai import OpenAI\n",
    "client = OpenAI(api_key=OPENAI_KEY)"
   ]
  },
  {
   "cell_type": "code",
   "execution_count": 73,
   "metadata": {},
   "outputs": [],
   "source": [
    "file = open(\"instructions.txt\", \"r\")\n",
    "instructions = file.read()\n",
    "file = open(\"test.txt\", \"r\")\n",
    "abstracts = file.read()"
   ]
  },
  {
   "cell_type": "code",
   "execution_count": null,
   "metadata": {},
   "outputs": [],
   "source": [
    "#Preprocessing\n",
    "\n",
    "#list = abstracts.split(\"\\n\\n\\n\") #split into publications\n",
    "#list1 = list[0].split(\"\\n\\n\")\n",
    "#print(list1[0]) #get identifier \n",
    "#print(max(list1, key=len)) #get abstract \n"
   ]
  },
  {
   "cell_type": "code",
   "execution_count": 44,
   "metadata": {},
   "outputs": [],
   "source": [
    "def get_category (instructions, abstracts):\n",
    "\n",
    "   response = client.chat.completions.create(\n",
    "   model=\"gpt-4-1106-preview\" #\"gpt-3.5-turbo-1106\",\n",
    "   #temperature=0.5,\n",
    "  # response_format={ \"type\": \"json_object\" },\n",
    "   messages=[\n",
    "        {\"role\": \"system\", \"content\": instructions},\n",
    "        {\"role\": \"user\", \"content\": abstracts}\n",
    "    ]\n",
    "   )\n",
    "   return response.choices[0].message.content\n",
    "\n"
   ]
  },
  {
   "cell_type": "code",
   "execution_count": 74,
   "metadata": {},
   "outputs": [],
   "source": [
    "with open(\"output.txt\", \"w\") as file:\n",
    "\tcontent = get_category (instructions, abstracts)\n",
    "\tfile.write(content)\n",
    "\tfile.close()"
   ]
  }
 ],
 "metadata": {
  "kernelspec": {
   "display_name": "Python 3",
   "language": "python",
   "name": "python3"
  },
  "language_info": {
   "codemirror_mode": {
    "name": "ipython",
    "version": 3
   },
   "file_extension": ".py",
   "mimetype": "text/x-python",
   "name": "python",
   "nbconvert_exporter": "python",
   "pygments_lexer": "ipython3",
   "version": "3.11.2"
  }
 },
 "nbformat": 4,
 "nbformat_minor": 2
}
