{
 "cells": [
  {
   "cell_type": "code",
   "execution_count": 1,
   "metadata": {},
   "outputs": [],
   "source": [
    "from dotenv import load_dotenv\n",
    "import os, pickle, asyncio\n",
    "load_dotenv(\".env\")\n",
    "OPENAI_KEY = os.environ.get(\"OPENAI_KEY\")\n",
    "from openai import OpenAI\n",
    "client = OpenAI(api_key=OPENAI_KEY)"
   ]
  },
  {
   "cell_type": "code",
   "execution_count": 73,
   "metadata": {},
   "outputs": [],
   "source": [
    "file = open(\"instructions.txt\", \"r\")\n",
    "instructions = file.read()\n",
    "file = open(\"test.txt\", \"r\")\n",
    "abstracts = file.read()"
   ]
  },
  {
   "cell_type": "code",
   "execution_count": 2,
   "metadata": {},
   "outputs": [
    {
     "name": "stdout",
     "output_type": "stream",
     "text": [
      "10\n",
      "2. Lancet. 2021 Apr 24;397(10284):1577-1590. doi: 10.1016/S0140-6736(20)32205-4. \n",
      "Epub 2021 Mar 2.\n",
      "Author information:\n",
      "(1)Alzheimer Centre Amsterdam, Amsterdam University Medical Centers, Amsterdam, \n",
      "Netherlands; Department of Neurology, Amsterdam University Medical Centers, \n",
      "Amsterdam, Netherlands; Life Science Partners, Amsterdam, Netherlands. \n",
      "Electronic address: p.scheltens@amsterdamumc.nl.\n",
      "(2)VIB Center for Brain and Disease Research, Leuven, Belgium; KU Leuven \n",
      "Department for Neurology, Leuven, Belgium; Dementia Research Institute, \n",
      "University College London, London, UK.\n",
      "(3)Division of Clinical Geriatrics and Center for Alzheimer Research, Department \n",
      "of Neurobiology, Care Sciences and Society, Karolinska University Hospital, \n",
      "Stockholm, Sweden; Institute of Public Health and Clinical Nutrition, University \n",
      "of Eastern Finland, Kuopio, Finland; Ageing and Epidemiology Research Unit, \n",
      "School of Public Health, Imperial College London, London, UK.\n",
      "(4)Alzheimer Centre Amsterdam, Amsterdam University Medical Centers, Amsterdam, \n",
      "Netherlands; Department of Clinical Genetics, Amsterdam University Medical \n",
      "Centers, Amsterdam, Netherlands.\n",
      "(5)Normandie Université, Université de Caen, Institut National de la Santé et de \n",
      "la Recherche Médicale, Groupement d'Intérêt Public Cyceron, Caen, France.\n",
      "(6)Department of Clinical Chemistry, Amsterdam University Medical Centers, \n",
      "Amsterdam, Netherlands.\n",
      "(7)Chambers-Grundy Center for Transformative Neuroscience, Department of Brain \n",
      "Health, University of Nevada, Las Vegas, NV, USA; Cleveland Clinic Lou Ruvo \n",
      "Center for Brain Health, Las Vegas, NV, USA.\n",
      "(8)Alzheimer Centre Amsterdam, Amsterdam University Medical Centers, Amsterdam, \n",
      "Netherlands; Department of Epidemiology and Datascience, Amsterdam University \n",
      "Medical Centers, Amsterdam, Netherlands.\n"
     ]
    }
   ],
   "source": [
    "#Preprocessing\n",
    "\n",
    "file = open(\"abstract-alzheimers-set.txt\", \"r\")\n",
    "raw = file.read()\n",
    "\n",
    "#split into publications\n",
    "publications = raw.split(\"\\n\\n\\n\")\n",
    "print(len(publications))\n",
    "\n",
    "element_list = publications[1].split(\"\\n\\n\")\n",
    "#get identifier \n",
    "identifier = element_list[0]\n",
    "print(identifier) \n",
    "#get abstract \n",
    "abstract = max(element_list, key=len)\n",
    "print(abstract) \n"
   ]
  },
  {
   "cell_type": "code",
   "execution_count": 44,
   "metadata": {},
   "outputs": [],
   "source": [
    "def get_category (instructions, abstracts):\n",
    "\n",
    "   response = client.chat.completions.create(\n",
    "   model=\"gpt-4-1106-preview\" #\"gpt-3.5-turbo-1106\",\n",
    "   #temperature=0.5,\n",
    "  # response_format={ \"type\": \"json_object\" },\n",
    "   messages=[\n",
    "        {\"role\": \"system\", \"content\": instructions},\n",
    "        {\"role\": \"user\", \"content\": abstracts}\n",
    "    ]\n",
    "   )\n",
    "   return response.choices[0].message.content\n",
    "\n"
   ]
  },
  {
   "cell_type": "code",
   "execution_count": 74,
   "metadata": {},
   "outputs": [],
   "source": [
    "with open(\"output.txt\", \"w\") as file:\n",
    "\tcontent = get_category (instructions, abstracts)\n",
    "\tfile.write(content)\n",
    "\tfile.close()"
   ]
  }
 ],
 "metadata": {
  "kernelspec": {
   "display_name": "Python 3",
   "language": "python",
   "name": "python3"
  },
  "language_info": {
   "codemirror_mode": {
    "name": "ipython",
    "version": 3
   },
   "file_extension": ".py",
   "mimetype": "text/x-python",
   "name": "python",
   "nbconvert_exporter": "python",
   "pygments_lexer": "ipython3",
   "version": "3.11.2"
  }
 },
 "nbformat": 4,
 "nbformat_minor": 2
}
