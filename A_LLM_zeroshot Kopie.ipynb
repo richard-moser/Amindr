{
 "cells": [
  {
   "cell_type": "code",
   "execution_count": 147,
   "metadata": {},
   "outputs": [
    {
     "name": "stdout",
     "output_type": "stream",
     "text": [
      "\u001b[H\u001b[2J"
     ]
    }
   ],
   "source": [
    "%clear -f\n",
    "import pandas as pd\n",
    "from sqlalchemy import create_engine, update, Table, MetaData\n",
    "from dotenv import load_dotenv\n",
    "import os, json, threading, time \n",
    "import google.generativeai as genai\n",
    "from labels_all import get_prompt\n",
    "from txt_to_df import txt_to_df\n",
    "from test import get_test_df\n",
    "\n",
    "load_dotenv(\".env\")\n",
    "GEMINI_KEY = os.environ.get(\"GEMINI_KEY\")\n",
    "genai.configure(api_key=GEMINI_KEY)\n",
    "\n",
    "# Gemini API # currently need VPN to outside Europe\n",
    "model = genai.GenerativeModel('gemini-pro')\n",
    "generation_config = genai.types.GenerationConfig(temperature=0) #default: 1.0\n",
    "\n",
    "# SQLite for persistent storage\n",
    "engine = create_engine('sqlite:///publications.db')\n"
   ]
  },
  {
   "cell_type": "code",
   "execution_count": 148,
   "metadata": {},
   "outputs": [],
   "source": [
    "%autoreload\n",
    "publications = txt_to_df(\"tst.txt\")\n",
    "publications = publications[:20]\n",
    "publications.head()\n",
    "publications.to_html(\"new1.html\")"
   ]
  },
  {
   "cell_type": "code",
   "execution_count": 149,
   "metadata": {},
   "outputs": [
    {
     "data": {
      "text/plain": [
       "(20, 9)"
      ]
     },
     "execution_count": 149,
     "metadata": {},
     "output_type": "execute_result"
    }
   ],
   "source": [
    "#publications = get_test_df()\n",
    "# publications[\"category\"] = None\n",
    "# publications[\"reasoning\"] = None\n",
    "publications[\"category1\"] = None\n",
    "publications[\"reasoning1\"] = None\n",
    "publications[\"category2\"] = None\n",
    "publications[\"reasoning2\"] = None\n",
    "\n",
    "\n",
    "# Write whole df to SQLite \n",
    "publications.to_sql('publications', con=engine, if_exists='replace', index=False)\n",
    "publications_table = Table('publications', MetaData(), autoload_with=engine)\n",
    "publications.shape"
   ]
  },
  {
   "cell_type": "code",
   "execution_count": 151,
   "metadata": {},
   "outputs": [
    {
     "name": "stdout",
     "output_type": "stream",
     "text": [
      "1\n",
      "1 A7 C3\n"
     ]
    }
   ],
   "source": [
    "def get_category(i):\n",
    " try:\n",
    "    print(i)\n",
    "    #get data from gemini api\n",
    "    index = publications[\"Index\"][i]\n",
    "    title = publications[\"Title\"][i]\n",
    "    abstract = publications[\"Abstract\"][i]\n",
    "    prompt = get_prompt(title, abstract)\n",
    "    res = model.generate_content(prompt, generation_config=generation_config)\n",
    "    json_res = json.loads(res.text)\n",
    "    categories = json_res[\"categories\"]\n",
    "    category1 = categories[0][\"category\"]\n",
    "    reasoning1 = categories[0][\"clear_reasoning\"]\n",
    "    if len(categories) > 1:\n",
    "      category2 = json_res[\"categories\"][1][\"category\"]\n",
    "      reasoning2 = json_res[\"categories\"][1][\"clear_reasoning\"]\n",
    "    else :\n",
    "      category2 = None\n",
    "      reasoning2 = None\n",
    "    print(i, category1, category2)\n",
    "    #save in database\n",
    "    stmt = (\n",
    "    update(publications_table)\n",
    "    .where(publications_table.c.Index == index)\n",
    "    .values(category1=category1, reasoning1=reasoning1, category2=category2, reasoning2=reasoning2)\n",
    "    )\n",
    "    with engine.connect() as conn:\n",
    "     result = conn.execute(stmt)\n",
    "     conn.commit()  \n",
    " except Exception as e:\n",
    "   print(e)\n",
    "   print(str(i)+\"returned with err\")\n",
    "\n",
    "#test function\n",
    "#get_category(1)\n"
   ]
  },
  {
   "cell_type": "code",
   "execution_count": 104,
   "metadata": {},
   "outputs": [
    {
     "name": "stdout",
     "output_type": "stream",
     "text": [
      "0\n",
      "# running threads: 8\n",
      "1\n",
      "2\n",
      "1 A2 A5\n",
      "Expecting value: line 4 column 1 (char 224)\n",
      "2returned with err\n",
      "0 A6 A7\n"
     ]
    }
   ],
   "source": [
    "start_idx = 0\n",
    "end_idx = 3\n",
    "\n",
    "if __name__ == '__main__':\n",
    "    threads = []\n",
    "    for i in range(start_idx, end_idx):\n",
    "        thread = threading.Thread(target=get_category, args=(i,))\n",
    "        threads.append(thread)\n",
    "        thread.start()\n",
    "        time.sleep(1.01) # current rate limit 60 requests/minute\n",
    "        if (i%10==0) :\n",
    "            print(\"# running threads: \" + str(threading.active_count()))\n",
    "\n",
    "    for thread in threads:\n",
    "        thread.join()\n"
   ]
  },
  {
   "cell_type": "code",
   "execution_count": 119,
   "metadata": {},
   "outputs": [],
   "source": [
    "query = \"SELECT * FROM publications\"\n",
    "publications = pd.read_sql_query(query, engine)\n",
    "publications\n",
    "#publications.to_csv('new.csv', index=False, sep=\",\")\n",
    "publications.to_html(\"new1.html\")"
   ]
  },
  {
   "cell_type": "code",
   "execution_count": 103,
   "metadata": {},
   "outputs": [
    {
     "name": "stdout",
     "output_type": "stream",
     "text": [
      "(3, 7)\n"
     ]
    },
    {
     "data": {
      "text/html": [
       "<div>\n",
       "<style scoped>\n",
       "    .dataframe tbody tr th:only-of-type {\n",
       "        vertical-align: middle;\n",
       "    }\n",
       "\n",
       "    .dataframe tbody tr th {\n",
       "        vertical-align: top;\n",
       "    }\n",
       "\n",
       "    .dataframe thead th {\n",
       "        text-align: right;\n",
       "    }\n",
       "</style>\n",
       "<table border=\"1\" class=\"dataframe\">\n",
       "  <thead>\n",
       "    <tr style=\"text-align: right;\">\n",
       "      <th></th>\n",
       "      <th>index</th>\n",
       "      <th>doc</th>\n",
       "      <th>correct_sublabel</th>\n",
       "      <th>category1</th>\n",
       "      <th>reasoning1</th>\n",
       "      <th>category2</th>\n",
       "      <th>reasoning2</th>\n",
       "    </tr>\n",
       "  </thead>\n",
       "  <tbody>\n",
       "    <tr>\n",
       "      <th>0</th>\n",
       "      <td>3</td>\n",
       "      <td>Tau protein aggregates are a major driver of n...</td>\n",
       "      <td>A1b</td>\n",
       "      <td>None</td>\n",
       "      <td>None</td>\n",
       "      <td>None</td>\n",
       "      <td>None</td>\n",
       "    </tr>\n",
       "    <tr>\n",
       "      <th>1</th>\n",
       "      <td>8</td>\n",
       "      <td>A Disintegrin and Metalloprotease 10, also kno...</td>\n",
       "      <td>A2</td>\n",
       "      <td>None</td>\n",
       "      <td>None</td>\n",
       "      <td>None</td>\n",
       "      <td>None</td>\n",
       "    </tr>\n",
       "    <tr>\n",
       "      <th>2</th>\n",
       "      <td>15</td>\n",
       "      <td>BACKGROUND: Exposure to air pollution has been...</td>\n",
       "      <td>A10</td>\n",
       "      <td>None</td>\n",
       "      <td>None</td>\n",
       "      <td>None</td>\n",
       "      <td>None</td>\n",
       "    </tr>\n",
       "  </tbody>\n",
       "</table>\n",
       "</div>"
      ],
      "text/plain": [
       "   index                                                doc correct_sublabel  \\\n",
       "0      3  Tau protein aggregates are a major driver of n...              A1b   \n",
       "1      8  A Disintegrin and Metalloprotease 10, also kno...               A2   \n",
       "2     15  BACKGROUND: Exposure to air pollution has been...              A10   \n",
       "\n",
       "  category1 reasoning1 category2 reasoning2  \n",
       "0      None       None      None       None  \n",
       "1      None       None      None       None  \n",
       "2      None       None      None       None  "
      ]
     },
     "execution_count": 103,
     "metadata": {},
     "output_type": "execute_result"
    }
   ],
   "source": [
    "# # #remove hallucinated labels\n",
    "# labels = [\"S\", \"OP\", \"TAM\", \"PRM\", \"PFU\", \"GAFM\", \"BAWM\", \"PED\", \"MISC\"]\n",
    "# # # Replace values not in the list with null\n",
    "# proposals['category'] = proposals['category'].apply(lambda x: x if x in labels else None)\n",
    "# proposals.to_sql('proposals', con=engine, if_exists='replace', index=False)\n",
    "\n",
    "# filter for proposals that have not been assigned a label yet\n",
    "publications = publications[publications['category1'].isnull()]\n",
    "publications = publications.reset_index()\n",
    "print(publications.shape)\n",
    "publications.head()"
   ]
  },
  {
   "cell_type": "code",
   "execution_count": 115,
   "metadata": {},
   "outputs": [
    {
     "name": "stdout",
     "output_type": "stream",
     "text": [
      "{\n",
      "\"categories\": [\n",
      "{\"category\": \"A1a\", \"clear_reasoning\": \"The publication uses summary statistics from genome-wide association studies to assess genetic covariance and local genetic correlation between Parkinson's and Alzheimer's disease.\"},\n",
      "{\"category\": \"A7\", \"clear_reasoning\": \"The publication mentions enrichment of heritability in genomic regions relevant to microglia in both Parkinson's and Alzheimer's disease.\"}\n",
      "]\n",
      "}\n"
     ]
    }
   ],
   "source": [
    "%autoreload\n",
    "doc = publications[\"doc\"][4]\n",
    "    #title = publications[\"title\"][i]\n",
    "    #body = publications[\"body\"][i]\n",
    "prompt = get_prompt(\"\", doc)\n",
    "    #print(prompt)\n",
    "res = model.generate_content(prompt, generation_config=generation_config)\n",
    "print(res.text)"
   ]
  },
  {
   "cell_type": "code",
   "execution_count": 69,
   "metadata": {},
   "outputs": [
    {
     "data": {
      "text/plain": [
       "'The abstract mentions microglia and the immune system, which is related to the immune system and glial cells.'"
      ]
     },
     "execution_count": 69,
     "metadata": {},
     "output_type": "execute_result"
    }
   ],
   "source": [
    "json_res = json.loads(res.text)#.replace(\"'\", '\"'))\n",
    "category1 = json_res[\"categories\"][0][\"clear_reasoning\"]\n",
    "category1\n",
    "# reasoning = json_res[\"clear_reasoning\"]"
   ]
  },
  {
   "cell_type": "code",
   "execution_count": 139,
   "metadata": {},
   "outputs": [
    {
     "name": "stdout",
     "output_type": "stream",
     "text": [
      "10.1000/182\n"
     ]
    }
   ],
   "source": [
    "import re\n",
    "\n",
    "def find_doi(text):\n",
    "    # This regex looks for 'doi' and captures everything that follows it\n",
    "    pattern = r'doi:(.*?)($|\\s)'\n",
    "    match = re.search(pattern, text, re.IGNORECASE)\n",
    "\n",
    "    # Return the matched group if found, else return None\n",
    "    return match.group(1).strip() if match else None\n",
    "\n",
    "# Example usage\n",
    "text = \"Here is a DOI doi:10.1000/182 and another DOI doi:10.1000/xyz in the same text.\"\n",
    "found_dois = find_all_dois(text)\n",
    "print(found_dois)"
   ]
  }
 ],
 "metadata": {
  "kernelspec": {
   "display_name": "Python 3",
   "language": "python",
   "name": "python3"
  },
  "language_info": {
   "codemirror_mode": {
    "name": "ipython",
    "version": 3
   },
   "file_extension": ".py",
   "mimetype": "text/x-python",
   "name": "python",
   "nbconvert_exporter": "python",
   "pygments_lexer": "ipython3",
   "version": "3.11.2"
  }
 },
 "nbformat": 4,
 "nbformat_minor": 2
}
