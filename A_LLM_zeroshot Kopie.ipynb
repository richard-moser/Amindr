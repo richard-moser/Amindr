{
 "cells": [
  {
   "cell_type": "code",
   "execution_count": 202,
   "metadata": {},
   "outputs": [
    {
     "name": "stdout",
     "output_type": "stream",
     "text": [
      "\u001b[H\u001b[2J"
     ]
    }
   ],
   "source": [
    "%clear -f\n",
    "import pandas as pd\n",
    "from sqlalchemy import create_engine, update, Table, MetaData\n",
    "from dotenv import load_dotenv\n",
    "import os, json, threading, time \n",
    "import google.generativeai as genai\n",
    "from labels_all import get_prompt\n",
    "from txt_to_df import txt_to_df\n",
    "from test import get_test_df\n",
    "\n",
    "load_dotenv(\".env\")\n",
    "GEMINI_KEY = os.environ.get(\"GEMINI_KEY\")\n",
    "genai.configure(api_key=GEMINI_KEY)\n",
    "\n",
    "# Gemini API # currently need VPN to outside Europe\n",
    "model = genai.GenerativeModel('gemini-pro')\n",
    "generation_config = genai.types.GenerationConfig(temperature=0) #default: 1.0\n",
    "\n",
    "# SQLite for persistent storage\n",
    "engine = create_engine('sqlite:///publications.db')\n"
   ]
  },
  {
   "cell_type": "code",
   "execution_count": 203,
   "metadata": {},
   "outputs": [],
   "source": [
    "%autoreload\n",
    "publications = txt_to_df(\"tst.txt\")\n",
    "publications = publications[:20]\n",
    "publications.head()\n",
    "publications.to_html(\"new1.html\")"
   ]
  },
  {
   "cell_type": "code",
   "execution_count": 204,
   "metadata": {},
   "outputs": [
    {
     "data": {
      "text/plain": [
       "(20, 9)"
      ]
     },
     "execution_count": 204,
     "metadata": {},
     "output_type": "execute_result"
    }
   ],
   "source": [
    "#publications = get_test_df()\n",
    "# publications[\"category\"] = None\n",
    "# publications[\"reasoning\"] = None\n",
    "publications[\"category1\"] = None\n",
    "publications[\"reasoning1\"] = None\n",
    "publications[\"category2\"] = None\n",
    "publications[\"reasoning2\"] = None\n",
    "\n",
    "\n",
    "# Write whole df to SQLite \n",
    "publications.to_sql('publications', con=engine, if_exists='replace', index=False)\n",
    "publications_table = Table('publications', MetaData(), autoload_with=engine)\n",
    "publications.shape"
   ]
  },
  {
   "cell_type": "code",
   "execution_count": 199,
   "metadata": {},
   "outputs": [],
   "source": [
    "%autoreload\n",
    "def get_category(i):\n",
    " try:\n",
    "    print(i)\n",
    "    #get data from gemini api\n",
    "    doi = publications[\"DOI\"][i]\n",
    "    title = publications[\"Title\"][i]\n",
    "    abstract = publications[\"Abstract\"][i]\n",
    "    prompt = get_prompt(title, abstract)\n",
    "    res = model.generate_content(prompt, generation_config=generation_config) #generation_config=generation_config\n",
    "    json_res = json.loads(res.text)\n",
    "    categories = json_res[\"categories\"]\n",
    "    category1 = categories[0][\"category\"]\n",
    "    reasoning1 = categories[0][\"clear_reasoning\"]\n",
    "    if len(categories) > 1:\n",
    "      category2 = json_res[\"categories\"][1][\"category\"]\n",
    "      reasoning2 = json_res[\"categories\"][1][\"clear_reasoning\"]\n",
    "    else :\n",
    "      category2 = None\n",
    "      reasoning2 = None\n",
    "    print(i, category1, category2)\n",
    "    #save in database\n",
    "    stmt = (\n",
    "    update(publications_table)\n",
    "    .where(publications_table.c.DOI == doi)\n",
    "    .values(category1=category1, reasoning1=reasoning1, category2=category2, reasoning2=reasoning2)\n",
    "    )\n",
    "    with engine.connect() as conn:\n",
    "     result = conn.execute(stmt)\n",
    "     conn.commit()  \n",
    " except Exception as e:\n",
    "   print(e)\n",
    "   print(str(i)+\"returned with err\")\n",
    "\n",
    "#test function\n",
    "#get_category(1)\n"
   ]
  },
  {
   "cell_type": "code",
   "execution_count": 200,
   "metadata": {},
   "outputs": [
    {
     "name": "stdout",
     "output_type": "stream",
     "text": [
      "0\n",
      "# running threads: 8\n",
      "1\n",
      "2\n",
      "3\n",
      "4\n",
      "5\n",
      "0 D5 A9\n",
      "6\n",
      "1 A7 None\n",
      "4 F None\n",
      "7\n",
      "8\n",
      "3 A7 A3\n",
      "9\n",
      "10\n",
      "5 A7 A1a\n",
      "2 A5 None\n",
      "# running threads: 12\n",
      "11\n",
      "7 A1b A7\n",
      "6 A5 C3\n",
      "12\n",
      "8 C1 C3\n",
      "13\n",
      "9 D4a A4\n",
      "14\n",
      "10 A7 A4\n",
      "15\n",
      "16\n",
      "17\n",
      "Expecting value: line 1 column 1 (char 0)\n",
      "12returned with err\n",
      "18\n",
      "13 A10 C4\n",
      "11 C3 None\n",
      "15 A5 None\n",
      "19\n",
      "16 C3 A10\n",
      "14 A10 D10\n",
      "17 C3 A5\n",
      "19 A10 C3\n",
      "18 C3 C2b\n"
     ]
    }
   ],
   "source": [
    "%autoreload\n",
    "start_idx = 0\n",
    "end_idx = 20\n",
    "\n",
    "if __name__ == '__main__':\n",
    "    threads = []\n",
    "    for i in range(start_idx, end_idx):\n",
    "        thread = threading.Thread(target=get_category, args=(i,))\n",
    "        threads.append(thread)\n",
    "        thread.start()\n",
    "        time.sleep(1.01) # current rate limit 60 requests/minute\n",
    "        if (i%10==0) :\n",
    "            print(\"# running threads: \" + str(threading.active_count()))\n",
    "\n",
    "    for thread in threads:\n",
    "        thread.join()\n"
   ]
  },
  {
   "cell_type": "code",
   "execution_count": 201,
   "metadata": {},
   "outputs": [
    {
     "name": "stdout",
     "output_type": "stream",
     "text": [
      "(1, 10)\n"
     ]
    },
    {
     "data": {
      "text/html": [
       "<div>\n",
       "<style scoped>\n",
       "    .dataframe tbody tr th:only-of-type {\n",
       "        vertical-align: middle;\n",
       "    }\n",
       "\n",
       "    .dataframe tbody tr th {\n",
       "        vertical-align: top;\n",
       "    }\n",
       "\n",
       "    .dataframe thead th {\n",
       "        text-align: right;\n",
       "    }\n",
       "</style>\n",
       "<table border=\"1\" class=\"dataframe\">\n",
       "  <thead>\n",
       "    <tr style=\"text-align: right;\">\n",
       "      <th></th>\n",
       "      <th>index</th>\n",
       "      <th>Index</th>\n",
       "      <th>Title</th>\n",
       "      <th>Abstract</th>\n",
       "      <th>Journal</th>\n",
       "      <th>DOI</th>\n",
       "      <th>category1</th>\n",
       "      <th>reasoning1</th>\n",
       "      <th>category2</th>\n",
       "      <th>reasoning2</th>\n",
       "    </tr>\n",
       "  </thead>\n",
       "  <tbody>\n",
       "    <tr>\n",
       "      <th>0</th>\n",
       "      <td>12</td>\n",
       "      <td>14</td>\n",
       "      <td>Alzheimer's Disease and Aging Association: Ide...</td>\n",
       "      <td>BACKGROUND: Aging is considered a key risk fac...</td>\n",
       "      <td>J Prev Alzheimers Dis</td>\n",
       "      <td>10.14283/jpad.2023.101</td>\n",
       "      <td>None</td>\n",
       "      <td>None</td>\n",
       "      <td>None</td>\n",
       "      <td>None</td>\n",
       "    </tr>\n",
       "  </tbody>\n",
       "</table>\n",
       "</div>"
      ],
      "text/plain": [
       "   index Index                                              Title  \\\n",
       "0     12    14  Alzheimer's Disease and Aging Association: Ide...   \n",
       "\n",
       "                                            Abstract                 Journal  \\\n",
       "0  BACKGROUND: Aging is considered a key risk fac...   J Prev Alzheimers Dis   \n",
       "\n",
       "                      DOI category1 reasoning1 category2 reasoning2  \n",
       "0  10.14283/jpad.2023.101      None       None      None       None  "
      ]
     },
     "execution_count": 201,
     "metadata": {},
     "output_type": "execute_result"
    }
   ],
   "source": [
    "query = \"SELECT * FROM publications\"\n",
    "publications = pd.read_sql_query(query, engine)\n",
    "publications\n",
    "#publications.to_csv('new.csv', index=False, sep=\",\")\n",
    "publications.to_html(\"new1.html\")\n",
    "\n",
    "\n",
    "# # #remove hallucinated labels\n",
    "labels = [\"F\", \"A1a\", \"A1b\", \"A1c\", \"A2\", \"A3\", \"A4\", \"A5\", \"A6\", \"A7\", \"A8\", \"A9\", \"A10\", \"C1\", \"C2a\", \"C2b\", \"C2c\", \"C2d\", \"C3\", \"C4\", \"C5\", \"D1a\", \"D1b\", \"D2\", \"D3\", \"D4a\", \"D4b\", \"D5\", \"D6\", \"D7\", \"D8\", \"D9\", \"D10\"]\n",
    "# # # Replace values not in the list with null\n",
    "publications['category1'] = publications['category1'].apply(lambda x: x if x in labels else None)\n",
    "publications['category2'] = publications['category2'].apply(lambda x: x if x in labels else None)\n",
    "# proposals.to_sql('proposals', con=engine, if_exists='replace', index=False)\n",
    "\n",
    "# filter for proposals that have not have a label yet\n",
    "publications = publications[publications['category1'].isnull()]\n",
    "publications = publications.reset_index()\n",
    "print(publications.shape)\n",
    "publications.head()"
   ]
  }
 ],
 "metadata": {
  "kernelspec": {
   "display_name": "Python 3",
   "language": "python",
   "name": "python3"
  },
  "language_info": {
   "codemirror_mode": {
    "name": "ipython",
    "version": 3
   },
   "file_extension": ".py",
   "mimetype": "text/x-python",
   "name": "python",
   "nbconvert_exporter": "python",
   "pygments_lexer": "ipython3",
   "version": "3.11.2"
  }
 },
 "nbformat": 4,
 "nbformat_minor": 2
}
