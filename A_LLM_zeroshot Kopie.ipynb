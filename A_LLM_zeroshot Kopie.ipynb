{
 "cells": [
  {
   "cell_type": "code",
   "execution_count": 19,
   "metadata": {},
   "outputs": [],
   "source": [
    "%clear -f\n",
    "import pandas as pd\n",
    "from sqlalchemy import create_engine, update, Table, MetaData\n",
    "from dotenv import load_dotenv\n",
    "import os, json, threading, time \n",
    "import google.generativeai as genai\n",
    "from labels import get_prompt_A, get_prompt_main\n",
    "from txt_to_df import txt_to_df\n",
    "from test import get_test_df\n",
    "\n",
    "load_dotenv(\".env\")\n",
    "GEMINI_KEY = os.environ.get(\"GEMINI_KEY\")\n",
    "genai.configure(api_key=GEMINI_KEY)\n",
    "\n",
    "# Gemini API # currently need VPN to outside Europe\n",
    "model = genai.GenerativeModel('gemini-pro')\n",
    "\n",
    "# SQLite for persistent storage\n",
    "engine = create_engine('sqlite:///publications.db')\n"
   ]
  },
  {
   "cell_type": "code",
   "execution_count": 26,
   "metadata": {},
   "outputs": [
    {
     "name": "stdout",
     "output_type": "stream",
     "text": [
      "\n",
      "The following is a publication related to Alzheimer's Disease (AD). Please analyze the following title and abstract of the publication and classify it using the categories and their explanations that are listed afterwards.\n",
      "TITLE: .\n",
      "ABSTRACT: .\n",
      "ABSTRACT END\n",
      "You can ONLY choose from the following curated categories:\n",
      "Categoriy shortcuts: [A1a, A1b, A1c, A2, A3, A4, A5, A6, A7, A8, A9, A10, AX]\n",
      "Explanations: \n",
      "Genetics (A1a)\n",
      "This topic includes new variants, genetic and transcriptomics insights such as genome-wide association studies.\n",
      "APOE (A1b) \n",
      "This topic is about apolipoprotein E (APOE). \n",
      "Familial AD mutations (A1c) \n",
      "This topic is about familial AD mutations, such as APP, presenilin 1/2, BACE\n",
      "Autophagy/Proteostasis (A2) \n",
      "This topic includes endosomal/lysosomal dysfunction, protein uptake/trafficking, general protein aggregation, post-translational modifications, and proteomics. It does not include tau and amyloid-beta, as it belongs to a different topic.\n",
      "Metabolism and Mitochondrial Dysfunction/Oxidative Stress (A3) \n",
      "This topic includes metabolic changes, nutrition/diet, stress, mitochondria, oxidative stress, changes in glucose/insulin. \n",
      "Neural Excitability, Synapses, and Brain Connectivity (A4) \n",
      "This topic is on synaptic transmission and neurotransmitters, including cholinergic and dopaminergic systems. It also includes brain connectivity and structural integrity.\n",
      "Amyloid Pathology (A5) \n",
      "This topic includes APP processing/secretases, amyloid-beta aggregation, and amyloid-beta function and amyloid-mediated toxicity/pathology. Check if another subcategory fits before labelling with this one.\n",
      "Tau Pathology (A6) \n",
      "This topic includes tau post-translational modifications/aggregations, and tau seeding and pathology.\n",
      "The Immune System and Glial Cells (A7) \n",
      "This topic includes the gut/brain axis, inflammation, TREM2. Also, it includes studies that focus on astrocytes, microglia, or oligodendrocytes.\n",
      "Cognitive and Behavioural Changes (A8) \n",
      "This topic focuses on cognitive and behavioral changes. It includes sensory processing, depression, sleep, smell, auditory, visual functioning. \n",
      "Vascular Contributions (A9) \n",
      "This topic includes arterial stiffness, atherosclerosis, cerebral amyloid angiopathy, microbleeds, white matter hyperintensities, blood-brain barrier, endothelial cells, lipoproteins interacting with vessels, angiogenesis, and platelet aggregation.\n",
      "Epidemiological Studies (A10) \n",
      "This topic includes non-genetic factors or comorbidities that put people at risk of developing AD or decrease the risk. It includes incidence/prevalence studies in specific populations, genetic predisposition to a risk factor, comorbidities such as cardiovascular disease/diabetes/depression, nutrition/vitamin deficiencies, socioeconomic background, air pollution, etc. Note: Mechanistic studies relating to HOW these non-genetic factors/comorbidities put people at risk belong to the other categories depending on their fit.\n",
      "Miscallaneous (AX)\n",
      "Comprehensive umbrella for all publications that do not fit clearly to any of the other categories.\n",
      "\n",
      "Use the following JSON template to answer.\n",
      "Add all suitable categories to the categories list, starting with the most suitable one.\n",
      "For each category, replace y with the category shortcut and z with a reasoning for your choice. \n",
      "ALWAYS ONLY respond with a valid json for python with the following structure:\n",
      "{\n",
      "categories: [\n",
      "{\"category\": y, \"clear_reasoning\": z},\n",
      "]\n",
      "}\n",
      "Dont't wrap ```json ``` around!\n",
      "\n"
     ]
    }
   ],
   "source": [
    "%autoreload\n",
    "\n",
    "print(get_prompt_A(\"\",\"\"))"
   ]
  },
  {
   "cell_type": "code",
   "execution_count": 9,
   "metadata": {},
   "outputs": [
    {
     "data": {
      "text/plain": [
       "(484, 4)"
      ]
     },
     "execution_count": 9,
     "metadata": {},
     "output_type": "execute_result"
    }
   ],
   "source": [
    "publications = txt_to_df(\"tst.txt\")\n"
   ]
  },
  {
   "cell_type": "code",
   "execution_count": 4,
   "metadata": {},
   "outputs": [
    {
     "data": {
      "text/plain": [
       "(18, 4)"
      ]
     },
     "execution_count": 4,
     "metadata": {},
     "output_type": "execute_result"
    }
   ],
   "source": [
    "publications = get_test_df()\n",
    "# publications[\"category\"] = None\n",
    "# publications[\"reasoning\"] = None\n",
    "publications[\"category1\"] = None\n",
    "publications[\"reasoning1\"] = None\n",
    "publications[\"category2\"] = None\n",
    "publications[\"reasoning2\"] = None\n",
    "\n",
    "\n",
    "# Write whole df to SQLite \n",
    "publications.to_sql('publications', con=engine, if_exists='replace', index=False)\n",
    "publications_table = Table('publications', MetaData(), autoload_with=engine)\n",
    "publications.shape"
   ]
  },
  {
   "cell_type": "code",
   "execution_count": 5,
   "metadata": {},
   "outputs": [],
   "source": [
    "def get_category(i):\n",
    " try:\n",
    "    print(i)\n",
    "    #get data from gemini api\n",
    "    doc = publications[\"doc\"][i]\n",
    "    #title = publications[\"title\"][i]\n",
    "    #body = publications[\"body\"][i]\n",
    "    prompt = get_prompt_A(\"\", doc)\n",
    "    #print(prompt)\n",
    "    res = model.generate_content(prompt)\n",
    "    json_res = json.loads(res.text)#.replace(\"'\", '\"'))\n",
    "    category = json_res[\"most_relevant_category\"]\n",
    "    reasoning = json_res[\"clear_reasoning\"]\n",
    "    print(i, category)\n",
    "    #save in database\n",
    "    stmt = (\n",
    "    update(publications_table)\n",
    "    .where(publications_table.c.doc == doc)\n",
    "    .values(subcategory=category, subcategory_reasoning=reasoning)\n",
    "    )\n",
    "    with engine.connect() as conn:\n",
    "     result = conn.execute(stmt)\n",
    "     conn.commit()  \n",
    " except Exception as e:\n",
    "   print(e)\n",
    "   print(str(i)+\"returned with err\")\n",
    "\n",
    "#test function\n",
    "#get_category(1)\n"
   ]
  },
  {
   "cell_type": "code",
   "execution_count": 13,
   "metadata": {},
   "outputs": [
    {
     "name": "stdout",
     "output_type": "stream",
     "text": [
      "0\n",
      "# running threads: 8\n",
      "1\n",
      "1 A5\n",
      "0 A5\n"
     ]
    }
   ],
   "source": [
    "start_idx = 0\n",
    "end_idx = 2\n",
    "\n",
    "if __name__ == '__main__':\n",
    "    threads = []\n",
    "    for i in range(start_idx, end_idx):\n",
    "        thread = threading.Thread(target=get_category, args=(i,))\n",
    "        threads.append(thread)\n",
    "        thread.start()\n",
    "        time.sleep(1.01) # current rate limit 60 requests/minute\n",
    "        if (i%10==0) :\n",
    "            print(\"# running threads: \" + str(threading.active_count()))\n",
    "\n",
    "    for thread in threads:\n",
    "        thread.join()\n"
   ]
  },
  {
   "cell_type": "code",
   "execution_count": 16,
   "metadata": {},
   "outputs": [],
   "source": [
    "query = \"SELECT * FROM publications\"\n",
    "publications = pd.read_sql_query(query, engine)\n",
    "publications\n",
    "#publications.to_csv('new.csv', index=False, sep=\",\")\n",
    "publications.to_html(\"new.html\")"
   ]
  },
  {
   "cell_type": "code",
   "execution_count": 12,
   "metadata": {},
   "outputs": [
    {
     "name": "stdout",
     "output_type": "stream",
     "text": [
      "(2, 5)\n"
     ]
    },
    {
     "data": {
      "text/html": [
       "<div>\n",
       "<style scoped>\n",
       "    .dataframe tbody tr th:only-of-type {\n",
       "        vertical-align: middle;\n",
       "    }\n",
       "\n",
       "    .dataframe tbody tr th {\n",
       "        vertical-align: top;\n",
       "    }\n",
       "\n",
       "    .dataframe thead th {\n",
       "        text-align: right;\n",
       "    }\n",
       "</style>\n",
       "<table border=\"1\" class=\"dataframe\">\n",
       "  <thead>\n",
       "    <tr style=\"text-align: right;\">\n",
       "      <th></th>\n",
       "      <th>index</th>\n",
       "      <th>doc</th>\n",
       "      <th>correct_sublabel</th>\n",
       "      <th>subcategory</th>\n",
       "      <th>subcategory_reasoning</th>\n",
       "    </tr>\n",
       "  </thead>\n",
       "  <tbody>\n",
       "    <tr>\n",
       "      <th>0</th>\n",
       "      <td>6</td>\n",
       "      <td>The formation of amyloid-ß peptides (Aß), that...</td>\n",
       "      <td>A5</td>\n",
       "      <td>None</td>\n",
       "      <td>None</td>\n",
       "    </tr>\n",
       "    <tr>\n",
       "      <th>1</th>\n",
       "      <td>12</td>\n",
       "      <td>While soluble forms of amyloid-β (Aβ) and Tau ...</td>\n",
       "      <td>A5</td>\n",
       "      <td>None</td>\n",
       "      <td>None</td>\n",
       "    </tr>\n",
       "  </tbody>\n",
       "</table>\n",
       "</div>"
      ],
      "text/plain": [
       "   index                                                doc correct_sublabel  \\\n",
       "0      6  The formation of amyloid-ß peptides (Aß), that...               A5   \n",
       "1     12  While soluble forms of amyloid-β (Aβ) and Tau ...               A5   \n",
       "\n",
       "  subcategory subcategory_reasoning  \n",
       "0        None                  None  \n",
       "1        None                  None  "
      ]
     },
     "execution_count": 12,
     "metadata": {},
     "output_type": "execute_result"
    }
   ],
   "source": [
    "# # #remove hallucinated labels\n",
    "# labels = [\"S\", \"OP\", \"TAM\", \"PRM\", \"PFU\", \"GAFM\", \"BAWM\", \"PED\", \"MISC\"]\n",
    "# # # Replace values not in the list with null\n",
    "# proposals['category'] = proposals['category'].apply(lambda x: x if x in labels else None)\n",
    "# proposals.to_sql('proposals', con=engine, if_exists='replace', index=False)\n",
    "\n",
    "# filter for proposals that have not been assigned a label yet\n",
    "publications = publications[publications['subcategory'].isnull()]\n",
    "publications = publications.reset_index()\n",
    "print(publications.shape)\n",
    "publications.head()"
   ]
  },
  {
   "cell_type": "code",
   "execution_count": 37,
   "metadata": {},
   "outputs": [
    {
     "name": "stdout",
     "output_type": "stream",
     "text": [
      "{\n",
      "\"categories\": [\n",
      "{\"category\": \"A4\", \"reason\": \"This publication is clearly related to the cholinergic system, which is part of the Neural Excitability, Synapses, and Brain Connectivity topic.\"},\n",
      "{\"category\": \"A2\", \"reason\": \"The publication is also related to post-translational modifications of AChE, which is part of the Autophagy/Proteostasis topic.\"}\n",
      "]\n",
      "}\n"
     ]
    }
   ],
   "source": [
    "%autoreload\n",
    "doc = publications[\"doc\"][7]\n",
    "    #title = publications[\"title\"][i]\n",
    "    #body = publications[\"body\"][i]\n",
    "prompt = get_prompt_A(\"\", doc)\n",
    "    #print(prompt)\n",
    "res = model.generate_content(prompt)\n",
    "print(res.text)"
   ]
  },
  {
   "cell_type": "code",
   "execution_count": 29,
   "metadata": {},
   "outputs": [
    {
     "name": "stdout",
     "output_type": "stream",
     "text": [
      "{\n",
      "\"categories\": [\n",
      "{\"category\": \"A4\", \"clear_reasoning\": \"The abstract investigates dopamine transporter levels in relation to glucose metabolism, which relates to neural excitability, synapses, and brain connectivity.\"},\n",
      "{\"category\": \"A5\", \"clear_reasoning\": \"The study focuses on the dopamine transporter which is related to amyloid pathology.\"},\n",
      "{\"category\": \"A7\", \"clear_reasoning\": \"The abstract briefly mentions the impact of striatal dopamine transporter levels which are related to the immune system and glial cells.\"},\n",
      "{\"category\": \"A10\", \"clear_reasoning\": \"The study focuses on CSF DAT as a biomarker, which is related to risk factors associated with Alzheimer's disease.\"}\n",
      "]\n",
      "}\n"
     ]
    }
   ],
   "source": [
    "print(res.text)"
   ]
  },
  {
   "cell_type": "code",
   "execution_count": 32,
   "metadata": {},
   "outputs": [
    {
     "data": {
      "text/plain": [
       "{'category': 'A4',\n",
       " 'clear_reasoning': 'The abstract investigates dopamine transporter levels in relation to glucose metabolism, which relates to neural excitability, synapses, and brain connectivity.'}"
      ]
     },
     "execution_count": 32,
     "metadata": {},
     "output_type": "execute_result"
    }
   ],
   "source": [
    "json_res = json.loads(res.text)#.replace(\"'\", '\"'))\n",
    "json_res[\"categories\"][0]\n",
    "# reasoning = json_res[\"clear_reasoning\"]"
   ]
  }
 ],
 "metadata": {
  "kernelspec": {
   "display_name": "Python 3",
   "language": "python",
   "name": "python3"
  },
  "language_info": {
   "codemirror_mode": {
    "name": "ipython",
    "version": 3
   },
   "file_extension": ".py",
   "mimetype": "text/x-python",
   "name": "python",
   "nbconvert_exporter": "python",
   "pygments_lexer": "ipython3",
   "version": "3.11.2"
  }
 },
 "nbformat": 4,
 "nbformat_minor": 2
}
